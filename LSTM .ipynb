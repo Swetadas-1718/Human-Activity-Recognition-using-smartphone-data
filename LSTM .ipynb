{
 "cells": [
  {
   "cell_type": "markdown",
   "id": "fd5a81d5",
   "metadata": {},
   "source": [
    "# Importing Libraries"
   ]
  },
  {
   "cell_type": "code",
   "execution_count": 1,
   "id": "3acbee67",
   "metadata": {},
   "outputs": [],
   "source": [
    "import pandas as pd\n",
    "import numpy as np"
   ]
  },
  {
   "cell_type": "code",
   "execution_count": 2,
   "id": "d81a7164",
   "metadata": {},
   "outputs": [],
   "source": [
    "ACTIVITIES = {\n",
    "    0: 'WALKING',\n",
    "    1: 'WALKING_UPSTAIRS',\n",
    "    2: 'WALKING_DOWNSTAIRS',\n",
    "    3: 'SITTING',\n",
    "    4: 'STANDING',\n",
    "    5: 'LAYING',\n",
    "}\n",
    "\n",
    "# Utility function to print the confusion matrix\n",
    "def confusion_matrix(Y_true, Y_pred):\n",
    "    Y_true = pd.Series([ACTIVITIES[y] for y in np.argmax(Y_true, axis=1)])\n",
    "    Y_pred = pd.Series([ACTIVITIES[y] for y in np.argmax(Y_pred, axis=1)])\n",
    "\n",
    "    return pd.crosstab(Y_true, Y_pred, rownames=['True'], colnames=['Pred'])"
   ]
  },
  {
   "cell_type": "markdown",
   "id": "8c993073",
   "metadata": {},
   "source": [
    "# Data"
   ]
  },
  {
   "cell_type": "code",
   "execution_count": 3,
   "id": "6b3d2c93",
   "metadata": {},
   "outputs": [],
   "source": [
    "# Data directory\n",
    "DATADIR = r'C:\\Users\\sweta\\OneDrive\\Desktop\\DL Projects\\Human Activity Recognition\\UCI_HAR_Dataset'"
   ]
  },
  {
   "cell_type": "code",
   "execution_count": 4,
   "id": "452ae53c",
   "metadata": {},
   "outputs": [],
   "source": [
    "SIGNALS = [\n",
    "    \"body_acc_x\",\n",
    "    \"body_acc_y\",\n",
    "    \"body_acc_z\",\n",
    "    \"body_gyro_x\",\n",
    "    \"body_gyro_y\",\n",
    "    \"body_gyro_z\",\n",
    "    \"total_acc_x\",\n",
    "    \"total_acc_y\",\n",
    "    \"total_acc_z\"\n",
    "]"
   ]
  },
  {
   "cell_type": "code",
   "execution_count": 5,
   "id": "a29179f4",
   "metadata": {},
   "outputs": [],
   "source": [
    "# Utility function to read the data from csv file\n",
    "def _read_csv(filename):\n",
    "    return pd.read_csv(filename, delim_whitespace=True, header=None)\n",
    "\n",
    "# Utility function to load the load\n",
    "def load_signals(subset):\n",
    "    signals_data = []\n",
    "\n",
    "    for signal in SIGNALS:\n",
    "        filename =fr\"C:\\Users\\sweta\\OneDrive\\Desktop\\DL Projects\\Human Activity Recognition\\UCI_HAR_Dataset\\{subset}\\Inertial Signals\\{signal}_{subset}.txt\"\n",
    "        signals_data.append(\n",
    "            _read_csv(filename).to_numpy()\n",
    "        ) \n",
    "    # Resultant shape is (7352 train/2947 test samples, 128 timesteps, 9 signals)\n",
    "    return np.transpose(signals_data, (1, 2, 0))"
   ]
  },
  {
   "cell_type": "code",
   "execution_count": 6,
   "id": "89639708",
   "metadata": {},
   "outputs": [],
   "source": [
    "def load_y(subset):\n",
    "    \"\"\"\n",
    "    from 1 to 6, that represents a human activity. We return a binary representation of \n",
    "    every sample objective as a 6 bits vector using One Hot Encoding\n",
    "    \"\"\"\n",
    "    filename = fr'C:\\Users\\sweta\\OneDrive\\Desktop\\DL Projects\\Human Activity Recognition\\UCI_HAR_Dataset\\{subset}\\y_{subset}.txt'\n",
    "    y = _read_csv(filename)[0]\n",
    "\n",
    "    return pd.get_dummies(y).to_numpy()"
   ]
  },
  {
   "cell_type": "code",
   "execution_count": 7,
   "id": "bb6ab0fc",
   "metadata": {},
   "outputs": [],
   "source": [
    "def load_data():\n",
    "    \"\"\"\n",
    "    Obtain the dataset from multiple files.\n",
    "    Returns: X_train, X_test, y_train, y_test\n",
    "    \"\"\"\n",
    "    X_train, X_test = load_signals('train'), load_signals('test')\n",
    "    y_train, y_test = load_y('train'), load_y('test')\n",
    "\n",
    "    return X_train, X_test, y_train, y_test"
   ]
  },
  {
   "cell_type": "code",
   "execution_count": 8,
   "id": "57e1dc19",
   "metadata": {},
   "outputs": [],
   "source": [
    "# Importing tensorflow\n",
    "np.random.seed(42)\n",
    "import tensorflow as tf\n",
    "tf.random.set_seed(42)"
   ]
  },
  {
   "cell_type": "code",
   "execution_count": 9,
   "id": "539b501e",
   "metadata": {},
   "outputs": [],
   "source": [
    "# Configuring a session\n",
    "session_conf =tf.compat.v1.ConfigProto(\n",
    "    intra_op_parallelism_threads=1,\n",
    "    inter_op_parallelism_threads=1\n",
    ")"
   ]
  },
  {
   "cell_type": "code",
   "execution_count": 10,
   "id": "cc952e31",
   "metadata": {},
   "outputs": [],
   "source": [
    "# Import Keras\n",
    "tf.compat.v1.keras.backend.set_session(tf.compat.v1.Session(graph=tf.compat.v1.get_default_graph(), config=session_conf))"
   ]
  },
  {
   "cell_type": "code",
   "execution_count": 11,
   "id": "2f8a7e9f",
   "metadata": {},
   "outputs": [],
   "source": [
    "# Importing libraries\n",
    "from keras.models import Sequential\n",
    "from keras.layers import LSTM\n",
    "from keras.layers.core import Dense, Dropout"
   ]
  },
  {
   "cell_type": "code",
   "execution_count": 12,
   "id": "13ca5894",
   "metadata": {},
   "outputs": [],
   "source": [
    "# Initializing parameters\n",
    "epochs = 30\n",
    "batch_size = 16\n",
    "n_hidden = 32"
   ]
  },
  {
   "cell_type": "code",
   "execution_count": 14,
   "id": "1174b7fc",
   "metadata": {},
   "outputs": [],
   "source": [
    "# Utility function to count the number of classes\n",
    "def _count_classes(y):\n",
    "    return len(set([tuple(category) for category in y]))"
   ]
  },
  {
   "cell_type": "code",
   "execution_count": 15,
   "id": "d9a35172",
   "metadata": {},
   "outputs": [],
   "source": [
    "# Loading the train and test data\n",
    "X_train, X_test, Y_train, Y_test = load_data()"
   ]
  },
  {
   "cell_type": "code",
   "execution_count": 16,
   "id": "89768f8a",
   "metadata": {},
   "outputs": [
    {
     "name": "stdout",
     "output_type": "stream",
     "text": [
      "128\n",
      "9\n",
      "7352\n"
     ]
    }
   ],
   "source": [
    "timesteps = len(X_train[0])\n",
    "input_dim = len(X_train[0][0])\n",
    "n_classes = _count_classes(Y_train)\n",
    "\n",
    "print(timesteps)\n",
    "print(input_dim)\n",
    "print(len(X_train))"
   ]
  },
  {
   "cell_type": "markdown",
   "id": "a81b29b5",
   "metadata": {},
   "source": [
    "# Defining the Architecture of LSTM"
   ]
  },
  {
   "cell_type": "code",
   "execution_count": 17,
   "id": "f42717f1",
   "metadata": {},
   "outputs": [
    {
     "name": "stdout",
     "output_type": "stream",
     "text": [
      "Model: \"sequential\"\n",
      "_________________________________________________________________\n",
      "Layer (type)                 Output Shape              Param #   \n",
      "=================================================================\n",
      "lstm (LSTM)                  (None, 32)                5376      \n",
      "_________________________________________________________________\n",
      "dropout (Dropout)            (None, 32)                0         \n",
      "_________________________________________________________________\n",
      "dense (Dense)                (None, 6)                 198       \n",
      "=================================================================\n",
      "Total params: 5,574\n",
      "Trainable params: 5,574\n",
      "Non-trainable params: 0\n",
      "_________________________________________________________________\n"
     ]
    }
   ],
   "source": [
    "# Initiliazing the sequential model\n",
    "model = Sequential()\n",
    "# Configuring the parameters\n",
    "model.add(LSTM(n_hidden, input_shape=(timesteps, input_dim)))\n",
    "# Adding a dropout layer\n",
    "model.add(Dropout(0.5))\n",
    "# Adding a dense output layer with sigmoid activation\n",
    "model.add(Dense(n_classes, activation='sigmoid'))\n",
    "model.summary()"
   ]
  },
  {
   "cell_type": "code",
   "execution_count": 18,
   "id": "2bb1c518",
   "metadata": {},
   "outputs": [],
   "source": [
    "# Compiling the model\n",
    "model.compile(loss='categorical_crossentropy',\n",
    "              optimizer='rmsprop',\n",
    "              metrics=['accuracy'])"
   ]
  },
  {
   "cell_type": "code",
   "execution_count": 19,
   "id": "f9d9adea",
   "metadata": {},
   "outputs": [
    {
     "name": "stdout",
     "output_type": "stream",
     "text": [
      "Epoch 1/30\n",
      "460/460 [==============================] - 59s 17ms/step - loss: 1.3504 - accuracy: 0.4347 - val_loss: 1.0375 - val_accuracy: 0.5996\n",
      "Epoch 2/30\n",
      "460/460 [==============================] - 7s 14ms/step - loss: 0.8295 - accuracy: 0.6431 - val_loss: 0.7556 - val_accuracy: 0.6916\n",
      "Epoch 3/30\n",
      "460/460 [==============================] - 7s 14ms/step - loss: 0.6749 - accuracy: 0.7134 - val_loss: 0.7003 - val_accuracy: 0.7431\n",
      "Epoch 4/30\n",
      "460/460 [==============================] - 7s 14ms/step - loss: 0.5576 - accuracy: 0.7937 - val_loss: 0.6343 - val_accuracy: 0.8022\n",
      "Epoch 5/30\n",
      "460/460 [==============================] - 7s 14ms/step - loss: 0.3869 - accuracy: 0.8763 - val_loss: 0.4448 - val_accuracy: 0.8690\n",
      "Epoch 6/30\n",
      "460/460 [==============================] - 7s 14ms/step - loss: 0.3034 - accuracy: 0.9062 - val_loss: 0.5017 - val_accuracy: 0.8402\n",
      "Epoch 7/30\n",
      "460/460 [==============================] - 7s 14ms/step - loss: 0.2431 - accuracy: 0.9220 - val_loss: 0.4882 - val_accuracy: 0.8398\n",
      "Epoch 8/30\n",
      "460/460 [==============================] - 7s 14ms/step - loss: 0.2193 - accuracy: 0.9277 - val_loss: 0.4422 - val_accuracy: 0.8748\n",
      "Epoch 9/30\n",
      "460/460 [==============================] - 7s 14ms/step - loss: 0.2102 - accuracy: 0.9364 - val_loss: 0.4409 - val_accuracy: 0.8711\n",
      "Epoch 10/30\n",
      "460/460 [==============================] - 7s 15ms/step - loss: 0.2050 - accuracy: 0.9314 - val_loss: 0.3838 - val_accuracy: 0.8755\n",
      "Epoch 11/30\n",
      "460/460 [==============================] - 7s 14ms/step - loss: 0.1986 - accuracy: 0.9323 - val_loss: 0.3554 - val_accuracy: 0.8812\n",
      "Epoch 12/30\n",
      "460/460 [==============================] - 7s 15ms/step - loss: 0.1773 - accuracy: 0.9416 - val_loss: 0.3937 - val_accuracy: 0.8880\n",
      "Epoch 13/30\n",
      "460/460 [==============================] - 7s 14ms/step - loss: 0.1700 - accuracy: 0.9413 - val_loss: 0.4365 - val_accuracy: 0.8666\n",
      "Epoch 14/30\n",
      "460/460 [==============================] - 7s 14ms/step - loss: 0.2147 - accuracy: 0.9348 - val_loss: 0.2859 - val_accuracy: 0.8958\n",
      "Epoch 15/30\n",
      "460/460 [==============================] - 7s 14ms/step - loss: 0.1593 - accuracy: 0.9432 - val_loss: 0.3680 - val_accuracy: 0.8870\n",
      "Epoch 16/30\n",
      "460/460 [==============================] - 7s 14ms/step - loss: 0.1513 - accuracy: 0.9468 - val_loss: 0.4795 - val_accuracy: 0.8789\n",
      "Epoch 17/30\n",
      "460/460 [==============================] - 7s 14ms/step - loss: 0.1931 - accuracy: 0.9344 - val_loss: 0.5640 - val_accuracy: 0.8714\n",
      "Epoch 18/30\n",
      "460/460 [==============================] - 7s 14ms/step - loss: 0.1699 - accuracy: 0.9430 - val_loss: 0.3623 - val_accuracy: 0.9046\n",
      "Epoch 19/30\n",
      "460/460 [==============================] - 7s 14ms/step - loss: 0.1437 - accuracy: 0.9495 - val_loss: 0.3637 - val_accuracy: 0.8856\n",
      "Epoch 20/30\n",
      "460/460 [==============================] - 7s 15ms/step - loss: 0.1660 - accuracy: 0.9428 - val_loss: 0.3879 - val_accuracy: 0.8999\n",
      "Epoch 21/30\n",
      "460/460 [==============================] - 7s 14ms/step - loss: 0.1557 - accuracy: 0.9409 - val_loss: 0.2947 - val_accuracy: 0.8958\n",
      "Epoch 22/30\n",
      "460/460 [==============================] - 7s 15ms/step - loss: 0.1312 - accuracy: 0.9501 - val_loss: 0.3929 - val_accuracy: 0.9019\n",
      "Epoch 23/30\n",
      "460/460 [==============================] - 7s 14ms/step - loss: 0.1386 - accuracy: 0.9498 - val_loss: 0.4176 - val_accuracy: 0.8958\n",
      "Epoch 24/30\n",
      "460/460 [==============================] - 7s 14ms/step - loss: 0.1658 - accuracy: 0.9435 - val_loss: 0.5115 - val_accuracy: 0.8873\n",
      "Epoch 25/30\n",
      "460/460 [==============================] - 7s 14ms/step - loss: 0.1265 - accuracy: 0.9507 - val_loss: 0.3980 - val_accuracy: 0.8968\n",
      "Epoch 26/30\n",
      "460/460 [==============================] - 7s 14ms/step - loss: 0.1258 - accuracy: 0.9563 - val_loss: 0.3689 - val_accuracy: 0.9040\n",
      "Epoch 27/30\n",
      "460/460 [==============================] - 7s 15ms/step - loss: 0.1413 - accuracy: 0.9505 - val_loss: 0.3178 - val_accuracy: 0.8975\n",
      "Epoch 28/30\n",
      "460/460 [==============================] - 7s 14ms/step - loss: 0.1295 - accuracy: 0.9483 - val_loss: 0.4171 - val_accuracy: 0.9067\n",
      "Epoch 29/30\n",
      "460/460 [==============================] - 7s 15ms/step - loss: 0.1359 - accuracy: 0.9504 - val_loss: 0.4122 - val_accuracy: 0.9006\n",
      "Epoch 30/30\n",
      "460/460 [==============================] - 7s 14ms/step - loss: 0.1276 - accuracy: 0.9553 - val_loss: 0.9181 - val_accuracy: 0.8670\n"
     ]
    },
    {
     "data": {
      "text/plain": [
       "<keras.callbacks.History at 0x17a1584f9d0>"
      ]
     },
     "execution_count": 19,
     "metadata": {},
     "output_type": "execute_result"
    }
   ],
   "source": [
    "# Training the model\n",
    "model.fit(X_train,\n",
    "          Y_train,\n",
    "          batch_size=batch_size,\n",
    "          validation_data=(X_test, Y_test),\n",
    "          epochs=epochs)"
   ]
  },
  {
   "cell_type": "code",
   "execution_count": 20,
   "id": "ca72dba3",
   "metadata": {},
   "outputs": [
    {
     "name": "stdout",
     "output_type": "stream",
     "text": [
      "Pred                LAYING  SITTING  STANDING  WALKING  WALKING_DOWNSTAIRS  \\\n",
      "True                                                                         \n",
      "LAYING                 510        0        27        0                   0   \n",
      "SITTING                  0      382       103        1                   0   \n",
      "STANDING                 0       78       448        0                   0   \n",
      "WALKING                  0        1         0      365                  14   \n",
      "WALKING_DOWNSTAIRS       1        0         0        1                 397   \n",
      "WALKING_UPSTAIRS         0        0         0        0                  18   \n",
      "\n",
      "Pred                WALKING_UPSTAIRS  \n",
      "True                                  \n",
      "LAYING                             0  \n",
      "SITTING                            5  \n",
      "STANDING                           6  \n",
      "WALKING                          116  \n",
      "WALKING_DOWNSTAIRS                21  \n",
      "WALKING_UPSTAIRS                 453  \n"
     ]
    }
   ],
   "source": [
    "# Confusion Matrix\n",
    "print(confusion_matrix(Y_test, model.predict(X_test)))"
   ]
  },
  {
   "cell_type": "code",
   "execution_count": 21,
   "id": "577c9fd1",
   "metadata": {},
   "outputs": [
    {
     "name": "stdout",
     "output_type": "stream",
     "text": [
      "93/93 [==============================] - 1s 6ms/step - loss: 0.9181 - accuracy: 0.8670\n"
     ]
    }
   ],
   "source": [
    "score = model.evaluate(X_test, Y_test)"
   ]
  },
  {
   "cell_type": "code",
   "execution_count": 22,
   "id": "1534bc81",
   "metadata": {},
   "outputs": [
    {
     "data": {
      "text/plain": [
       "[0.9180893898010254, 0.8669833540916443]"
      ]
     },
     "execution_count": 22,
     "metadata": {},
     "output_type": "execute_result"
    }
   ],
   "source": [
    "score"
   ]
  },
  {
   "cell_type": "markdown",
   "id": "ae8b5cb2",
   "metadata": {},
   "source": [
    "# Conclusion\n",
    "- With a simple 2 layer architecture we got 86.7% accuracy and a loss of 0.91\n",
    "- We can further imporve the performace with Hyperparameter tuning"
   ]
  }
 ],
 "metadata": {
  "kernelspec": {
   "display_name": "Python 3",
   "language": "python",
   "name": "python3"
  },
  "language_info": {
   "codemirror_mode": {
    "name": "ipython",
    "version": 3
   },
   "file_extension": ".py",
   "mimetype": "text/x-python",
   "name": "python",
   "nbconvert_exporter": "python",
   "pygments_lexer": "ipython3",
   "version": "3.8.5"
  }
 },
 "nbformat": 4,
 "nbformat_minor": 5
}
